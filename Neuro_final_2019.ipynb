{
 "cells": [
  {
   "cell_type": "code",
   "execution_count": null,
   "metadata": {},
   "outputs": [],
   "source": [
    "import numpy as np\n",
    "import pandas as pd\n",
    "import matplotlib.pyplot as plt\n",
    "from sklearn.svm import SVC"
   ]
  },
  {
   "cell_type": "code",
   "execution_count": null,
   "metadata": {},
   "outputs": [],
   "source": [
    "hz = 250 # частота оцифровки сигнала"
   ]
  },
  {
   "cell_type": "code",
   "execution_count": null,
   "metadata": {},
   "outputs": [],
   "source": [
    "# Функции для работы с ЭКГ\n",
    "def getPeaks(ecg, thold=0.3):\n",
    "    \"\"\"Вычисление индексов точек, соответствующих вершинам R-зубцов \n",
    "    thold - пороговое значение сигнала выше которого будут искаться пики\"\"\"\n",
    "    i = 0\n",
    "    peaks = []\n",
    "    while i < len(ecg) - 1:\n",
    "    if ecg[i] > 0.3 and ecg[i-1] < ecg[i] > ecg[i+1]:\n",
    "        peaks.append(i)\n",
    "        i += 100\n",
    "    else:\n",
    "        i += 1\n",
    "    return np.array(peaks)"
   ]
  },
  {
   "cell_type": "code",
   "execution_count": null,
   "metadata": {},
   "outputs": [],
   "source": [
    "def getIntervals(ecg):\n",
    "    \"\"\"Вычисление интервалов между R-зубцами\"\"\"\n",
    "    peaks = getPeaks(ecg)\n",
    "    intervals = np.zeros(len(peaks)-1)\n",
    "    for i in range(len(intervals)):\n",
    "        intervals[i] = peaks[i+1] - peaks[i]\n",
    "    return intervals"
   ]
  },
  {
   "cell_type": "code",
   "execution_count": null,
   "metadata": {},
   "outputs": [],
   "source": [
    "def getHR(ecg):\n",
    "    \"\"\"Вычисление ЧСС по индексам пиков. Вычисляется по крайним\n",
    "    пикам в подаваемом в качестве аргумента сигнале\"\"\"\n",
    "    peaks = getPeaks(ecg)\n",
    "    hr = 60/((peaks[-1] - peaks[1])/hz/(len(peaks)-1))\n",
    "    return hr"
   ]
  },
  {
   "cell_type": "code",
   "execution_count": null,
   "metadata": {},
   "outputs": [],
   "source": [
    "# Функции для работы с КГР\n",
    "def getDerivative(vector):\n",
    "    \"\"\"Вычисляет производную сигнала\"\"\"\n",
    "    return vector[1:]-vector[:-1]"
   ]
  },
  {
   "cell_type": "code",
   "execution_count": null,
   "metadata": {},
   "outputs": [],
   "source": [
    "def stabilize(vector, begin, end):\n",
    "    \"\"\"Убирает наклон графика КГР\"\"\"\n",
    "    vector[end+1:] -= vector[end]-vector[begin]\n",
    "    vector[begin:end+1] -= np.linspace(0, vector[end]-vector[begin], end-begin+1)"
   ]
  },
  {
   "cell_type": "code",
   "execution_count": null,
   "metadata": {},
   "outputs": [],
   "source": [
    "def integrate(vector, const=0, thold=None):\n",
    "    \"\"\"Интегрирует сигнал. vector - массив производных некого сигнала,\n",
    "    const - его начальное значение. Отсекает все производные, превышающие\n",
    "    по модулю пороговое значение thold.\"\"\"\n",
    "    ans = np.zeros(len(vector)+1)\n",
    "    ans[0] = const\n",
    "    if thold is not None:\n",
    "        absVec = np.abs(vector)\n",
    "        if absVec[0] > thold:\n",
    "            vector[0] = 0.0\n",
    "        for i in range(1, len(vector)):\n",
    "            if absVec[i] > thold:\n",
    "                vector[i] = vector[i-1]\n",
    "    for i, der in enumerate(vector):\n",
    "        ans[i+1] = ans[i] + der\n",
    "    return ans\n"
   ]
  },
  {
   "cell_type": "code",
   "execution_count": null,
   "metadata": {},
   "outputs": [],
   "source": [
    "def getLocalMaxsGSR(gsr):\n",
    "    \"\"\"Возвращает индексы локальных максимумов сигнала КГР\"\"\"\n",
    "    der = getDerivative(gsr)\n",
    "    i = 10\n",
    "    maxs = []\n",
    "    while i < len(der) - 10:\n",
    "        if der[i-10] < der[i] > der[i+10] and der[i]-der[i+10] > 1e-12\\\n",
    "                                        and der[i]-der[i-10] > 1e-12:\n",
    "            maxs.append(i)\n",
    "            i += 249\n",
    "        i += 1\n",
    "    maxs = np.array(maxs)\n",
    "    return maxs"
   ]
  },
  {
   "cell_type": "code",
   "execution_count": null,
   "metadata": {},
   "outputs": [],
   "source": [
    "def getClosestInterval(index, intervalsDict):\n",
    "    \"\"\"Возвращает ближайший к index временной интервал между\n",
    "    локальными максимумами производной сигнала КГР\"\"\"\n",
    "    closestIndex = min(intervalsDict.keys(), key=lambda x: abs(x-index))\n",
    "    return intervalsDict[closestIndex]"
   ]
  },
  {
   "cell_type": "code",
   "execution_count": null,
   "metadata": {},
   "outputs": [],
   "source": [
    "# Обработка ЭЭГ\n",
    "\n",
    "def compl(sig, coef=0.95):\n",
    "    \"\"\"Комплементарный фильтр с коэффициентом coef.\n",
    "    Возвращает сигнал после фильтрации.\"\"\"\n",
    "    for i in range(1, len(sig)):\n",
    "        sig[i] = coef * sig[i-1] + (1-coef) * sig[i]\n",
    "    return sig"
   ]
  },
  {
   "cell_type": "code",
   "execution_count": null,
   "metadata": {},
   "outputs": [],
   "source": [
    "def med(sig, coef=15):\n",
    "    \"\"\"Возвращает массив длины len(sig)//coef, содержащий\n",
    "    медианный значения отрезков sig длиной coef.\"\"\"\n",
    "    ret = np.zeros(len(sig)//coef)\n",
    "    for i in range(len(ret)):\n",
    "        ret[i] = np.average(sig[i*coef:(i+1)*coef])\n",
    "    return ret"
   ]
  },
  {
   "cell_type": "code",
   "execution_count": null,
   "metadata": {},
   "outputs": [],
   "source": [
    "def getAlBeta(eeg, chunkSize=15*hz):\n",
    "    \"\"\"Вычисляет уровни альфа- и бета-ритмов в сигнале.\n",
    "    Вычисляется для chunkSize числа точек.\"\"\"\n",
    "    nChunks = eeg.shape[0]//chunkSize\n",
    "    alphas = np.zeros(nChunks)\n",
    "    betas = np.zeros(nChunks)\n",
    "    coef = chunkSize // hz\n",
    "    for i in range(nChunks):\n",
    "        chunk = eeg[i*chunkSize:(i+1)*chunkSize]\n",
    "        spec = np.fft.fft(chunk)\n",
    "        spec = np.abs(spec)\n",
    "        alphas[i] = sum(spec[8*coef:13*coef+1])\n",
    "        betas[i] = sum(spec[15*coef:30*coef+1])\n",
    "    return pd.DataFrame({'alpha': alphas, 'beta': betas})"
   ]
  },
  {
   "cell_type": "code",
   "execution_count": null,
   "metadata": {},
   "outputs": [],
   "source": [
    "def getAlphaToBetaSmooth(eeg, coef=15):\n",
    "    \"\"\"Вычисляет отношение альфа-ритма к бета- в сигнале ЭЭГ.\n",
    "    После получение уровней альфа- и бета-ритмов сглаживает их.\n",
    "    Изначально уровни вычисляются во временном окне равном 1 с.\n",
    "    Параметр coef определяет число последовательных значений\n",
    "    уровней, по которым считается медианное значение.\"\"\"\n",
    "    new = getAlBeta(eeg, chunkSize=hz)\n",
    "    alpha = new.alpha.values\n",
    "    beta = new.beta.values\n",
    "    alpha = compl(alpha)\n",
    "    beta = compl(beta)\n",
    "    alpha = med(alpha, coef)\n",
    "    beta = med(beta, coef)\n",
    "    alpha = compl(alpha)\n",
    "    beta = compl(beta)\n",
    "    alphaToBeta = compl(alpha/beta)\n",
    "    \n",
    "    return alphaToBeta"
   ]
  },
  {
   "cell_type": "code",
   "execution_count": null,
   "metadata": {},
   "outputs": [],
   "source": []
  },
  {
   "cell_type": "code",
   "execution_count": null,
   "metadata": {},
   "outputs": [],
   "source": []
  },
  {
   "cell_type": "code",
   "execution_count": null,
   "metadata": {},
   "outputs": [],
   "source": []
  },
  {
   "cell_type": "code",
   "execution_count": null,
   "metadata": {},
   "outputs": [],
   "source": []
  },
  {
   "cell_type": "code",
   "execution_count": null,
   "metadata": {},
   "outputs": [],
   "source": []
  }
 ],
 "metadata": {
  "kernelspec": {
   "display_name": "Python 3",
   "language": "python",
   "name": "python3"
  },
  "language_info": {
   "codemirror_mode": {
    "name": "ipython",
    "version": 3
   },
   "file_extension": ".py",
   "mimetype": "text/x-python",
   "name": "python",
   "nbconvert_exporter": "python",
   "pygments_lexer": "ipython3",
   "version": "3.6.8"
  }
 },
 "nbformat": 4,
 "nbformat_minor": 2
}
